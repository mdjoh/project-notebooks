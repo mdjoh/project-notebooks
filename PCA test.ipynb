{
 "cells": [
  {
   "cell_type": "code",
   "execution_count": 1,
   "metadata": {},
   "outputs": [],
   "source": [
    "import numpy as np\n",
    "import pandas as pd\n",
    "import matplotlib.pyplot as plt\n",
    "from sklearn.decomposition import PCA\n",
    "\n",
    "file = 'diabetes_data.txt'\n",
    "\n",
    "# read file and load data\n",
    "data = pd.read_csv(file, sep='\\s+|,' ,header=0, engine='python')\n",
    "df = pd.DataFrame(data)\n",
    "\n",
    "headers=list(df)\n"
   ]
  },
  {
   "cell_type": "code",
   "execution_count": 3,
   "metadata": {
    "collapsed": true
   },
   "outputs": [
    {
     "name": "stdout",
     "output_type": "stream",
     "text": [
      "[[ 59.       2.      32.1    ...   4.8598  87.     151.    ]\n",
      " [ 48.       1.      21.6    ...   3.8918  69.      75.    ]\n",
      " [ 72.       2.      30.5    ...   4.6728  85.     141.    ]\n",
      " ...\n",
      " [ 60.       2.      24.9    ...   4.1271  95.     132.    ]\n",
      " [ 36.       1.      30.     ...   5.1299  85.     220.    ]\n",
      " [ 36.       1.      19.6    ...   4.5951  92.      57.    ]]\n",
      "0      151\n",
      "1       75\n",
      "2      141\n",
      "3      206\n",
      "4      135\n",
      "5       97\n",
      "6      138\n",
      "7       63\n",
      "8      110\n",
      "9      310\n",
      "10     101\n",
      "11      69\n",
      "12     179\n",
      "13     185\n",
      "14     118\n",
      "15     171\n",
      "16     166\n",
      "17     144\n",
      "18      97\n",
      "19     168\n",
      "20      68\n",
      "21      49\n",
      "22      68\n",
      "23     245\n",
      "24     184\n",
      "25     202\n",
      "26     137\n",
      "27      85\n",
      "28     131\n",
      "29     283\n",
      "      ... \n",
      "412    261\n",
      "413    113\n",
      "414    131\n",
      "415    174\n",
      "416    257\n",
      "417     55\n",
      "418     84\n",
      "419     42\n",
      "420    146\n",
      "421    212\n",
      "422    233\n",
      "423     91\n",
      "424    111\n",
      "425    152\n",
      "426    120\n",
      "427     67\n",
      "428    310\n",
      "429     94\n",
      "430    183\n",
      "431     66\n",
      "432    173\n",
      "433     72\n",
      "434     49\n",
      "435     64\n",
      "436     48\n",
      "437    178\n",
      "438    104\n",
      "439    132\n",
      "440    220\n",
      "441     57\n",
      "Name: Y, Length: 442, dtype: int64\n"
     ]
    }
   ],
   "source": [
    "print(data.values)\n",
    "print(data['Y'])"
   ]
  },
  {
   "cell_type": "code",
   "execution_count": 9,
   "metadata": {},
   "outputs": [
    {
     "name": "stdout",
     "output_type": "stream",
     "text": [
      "(442,)\n",
      "(442, 9)\n",
      "[[ 59.      32.1    101.     ...   4.       4.8598  87.    ]\n",
      " [ 48.      21.6     87.     ...   3.       3.8918  69.    ]\n",
      " [ 72.      30.5     93.     ...   4.       4.6728  85.    ]\n",
      " ...\n",
      " [ 60.      24.9     99.67   ...   3.77     4.1271  95.    ]\n",
      " [ 36.      30.      95.     ...   4.79     5.1299  85.    ]\n",
      " [ 36.      19.6     71.     ...   3.       4.5951  92.    ]]\n"
     ]
    }
   ],
   "source": [
    "nosex = np.delete(data.values, [1,10], axis=1)\n",
    "target=data.values[:,-1]\n",
    "print(np.shape(target))\n",
    "print(np.shape(nosex))\n",
    "print(nosex)"
   ]
  },
  {
   "cell_type": "code",
   "execution_count": 15,
   "metadata": {},
   "outputs": [
    {
     "data": {
      "text/plain": [
       "[<matplotlib.lines.Line2D at 0x6603320>]"
      ]
     },
     "execution_count": 15,
     "metadata": {},
     "output_type": "execute_result"
    },
    {
     "data": {
      "image/png": "[encoded data removed]",
      "text/plain": [
       "<Figure size 432x288 with 1 Axes>"
      ]
     },
     "metadata": {},
     "output_type": "display_data"
    }
   ],
   "source": [
    "wsex=np.delete(data.values, 10, axis=1)\n",
    "pca = PCA().fit(wsex)\n",
    "plt.plot(np.cumsum(pca.explained_variance_ratio_))"
   ]
  },
  {
   "cell_type": "code",
   "execution_count": 18,
   "metadata": {},
   "outputs": [
    {
     "name": "stdout",
     "output_type": "stream",
     "text": [
      "[[ 8.19101080e-02  2.76617320e-02  8.00460077e-02  7.47768986e-01\n",
      "   6.46590931e-01 -2.15990222e-02  1.77136075e-02  5.33294885e-03\n",
      "   8.98397498e-02]\n",
      " [-4.33276653e-01 -1.21948585e-01 -6.21712812e-01  1.67058135e-01\n",
      "   1.71222788e-02  4.62882121e-01 -3.12797454e-02 -1.28036747e-02\n",
      "  -4.08985643e-01]\n",
      " [ 3.38134794e-01 -2.59062531e-02  3.12236696e-01  3.45783702e-01\n",
      "  -4.64634381e-01  6.68557951e-01 -4.32979175e-02  3.34137699e-03\n",
      "   5.65233384e-02]\n",
      " [-8.24535347e-01  6.19914691e-02  5.19476824e-01  1.18850520e-01\n",
      "  -1.17874646e-01  2.21226198e-02  6.31083428e-04  6.92493900e-03\n",
      "   1.33733717e-01]\n",
      " [-1.05018230e-01  3.66892838e-02 -4.69653752e-01  1.51854728e-01\n",
      "  -2.22815991e-01 -2.92470160e-02  1.11850097e-02  1.33641407e-02\n",
      "   8.32577026e-01]\n",
      " [ 1.70290756e-02  1.03028894e-01 -1.16793447e-01  5.01301405e-01\n",
      "  -5.47050531e-01 -5.58311157e-01  5.88167790e-02  5.07232305e-02\n",
      "  -3.27327603e-01]\n",
      " [ 6.97394493e-03  9.83771858e-01 -7.41085230e-02 -5.69222078e-02\n",
      "   4.49111414e-02  1.33493199e-01 -1.82535956e-02 -1.09242572e-03\n",
      "  -5.69232243e-02]\n",
      " [ 4.94521879e-04  6.31713249e-03  3.14203532e-03 -2.40989357e-02\n",
      "   3.28663508e-03  7.82380607e-02  9.95581583e-01 -4.52229379e-02\n",
      "  -3.06915809e-03]\n",
      " [ 8.36758821e-04  6.42377341e-03  7.67883017e-04  3.25185256e-02\n",
      "  -3.01395803e-02 -3.61402257e-02 -4.16208814e-02 -9.97472181e-01\n",
      "   1.55907838e-03]]\n"
     ]
    },
    {
     "data": {
      "text/plain": [
       "[<matplotlib.lines.Line2D at 0x673d828>]"
      ]
     },
     "execution_count": 18,
     "metadata": {},
     "output_type": "execute_result"
    },
    {
     "data": {
      "image/png": "[encoded data removed]",
      "text/plain": [
       "<Figure size 432x288 with 1 Axes>"
      ]
     },
     "metadata": {},
     "output_type": "display_data"
    }
   ],
   "source": [
    "pca = PCA().fit(nosex)\n",
    "print(pca.components_)\n",
    "plt.plot(np.cumsum(pca.explained_variance_ratio_))"
   ]
  },
  {
   "cell_type": "code",
   "execution_count": 14,
   "metadata": {},
   "outputs": [
    {
     "name": "stdout",
     "output_type": "stream",
     "text": [
      "[7.32555773e-01 9.62084064e-02 7.47138132e-02 4.31681564e-02\n",
      " 3.21660926e-02 1.64305169e-02 4.68024735e-03 6.73899443e-05\n",
      " 9.60408256e-06]\n"
     ]
    }
   ],
   "source": [
    "print(pca.explained_variance_ratio_)"
   ]
  },
  {
   "cell_type": "code",
   "execution_count": 17,
   "metadata": {},
   "outputs": [
    {
     "name": "stdout",
     "output_type": "stream",
     "text": [
      "[[59.      2.     32.1    ...  4.      4.8598 87.    ]\n",
      " [48.      1.     21.6    ...  3.      3.8918 69.    ]\n",
      " [72.      2.     30.5    ...  4.      4.6728 85.    ]\n",
      " ...\n",
      " [60.      2.     24.9    ...  3.77    4.1271 95.    ]\n",
      " [36.      1.     30.     ...  4.79    5.1299 85.    ]\n",
      " [36.      1.     19.6    ...  3.      4.5951 92.    ]]\n"
     ]
    }
   ],
   "source": [
    "print(wsex)"
   ]
  },
  {
   "cell_type": "code",
   "execution_count": 19,
   "metadata": {},
   "outputs": [
    {
     "name": "stdout",
     "output_type": "stream",
     "text": [
      "[[ 8.19101080e-02  2.76617320e-02  8.00460077e-02  7.47768986e-01\n",
      "   6.46590931e-01 -2.15990222e-02  1.77136075e-02  5.33294885e-03\n",
      "   8.98397498e-02]\n",
      " [-4.33276653e-01 -1.21948585e-01 -6.21712812e-01  1.67058135e-01\n",
      "   1.71222788e-02  4.62882121e-01 -3.12797454e-02 -1.28036747e-02\n",
      "  -4.08985643e-01]\n",
      " [ 3.38134794e-01 -2.59062531e-02  3.12236696e-01  3.45783702e-01\n",
      "  -4.64634381e-01  6.68557951e-01 -4.32979175e-02  3.34137699e-03\n",
      "   5.65233384e-02]\n",
      " [-8.24535347e-01  6.19914691e-02  5.19476824e-01  1.18850520e-01\n",
      "  -1.17874646e-01  2.21226198e-02  6.31083428e-04  6.92493900e-03\n",
      "   1.33733717e-01]\n",
      " [-1.05018230e-01  3.66892838e-02 -4.69653752e-01  1.51854728e-01\n",
      "  -2.22815991e-01 -2.92470160e-02  1.11850097e-02  1.33641407e-02\n",
      "   8.32577026e-01]\n",
      " [ 1.70290756e-02  1.03028894e-01 -1.16793447e-01  5.01301405e-01\n",
      "  -5.47050531e-01 -5.58311157e-01  5.88167790e-02  5.07232305e-02\n",
      "  -3.27327603e-01]\n",
      " [ 6.97394493e-03  9.83771858e-01 -7.41085230e-02 -5.69222078e-02\n",
      "   4.49111414e-02  1.33493199e-01 -1.82535956e-02 -1.09242572e-03\n",
      "  -5.69232243e-02]\n",
      " [ 4.94521879e-04  6.31713249e-03  3.14203532e-03 -2.40989357e-02\n",
      "   3.28663508e-03  7.82380607e-02  9.95581583e-01 -4.52229379e-02\n",
      "  -3.06915809e-03]\n",
      " [ 8.36758821e-04  6.42377341e-03  7.67883017e-04  3.25185256e-02\n",
      "  -3.01395803e-02 -3.61402257e-02 -4.16208814e-02 -9.97472181e-01\n",
      "   1.55907838e-03]]\n"
     ]
    },
    {
     "data": {
      "text/plain": [
       "[<matplotlib.lines.Line2D at 0x6798828>]"
      ]
     },
     "execution_count": 19,
     "metadata": {},
     "output_type": "execute_result"
    },
    {
     "data": {
      "image/png": "[encoded data removed]",
      "text/plain": [
       "<Figure size 432x288 with 1 Axes>"
      ]
     },
     "metadata": {},
     "output_type": "display_data"
    }
   ],
   "source": [
    "pca=PCA()\n",
    "pca.fit(nosex)\n",
    "print(pca.components_)\n",
    "plt.plot(np.cumsum(pca.explained_variance_ratio_))"
   ]
  },
  {
   "cell_type": "code",
   "execution_count": null,
   "metadata": {},
   "outputs": [],
   "source": []
  }
 ],
 "metadata": {
  "kernelspec": {
   "display_name": "Python 3",
   "language": "python",
   "name": "python3"
  },
  "language_info": {
   "codemirror_mode": {
    "name": "ipython",
    "version": 3
   },
   "file_extension": ".py",
   "mimetype": "text/x-python",
   "name": "python",
   "nbconvert_exporter": "python",
   "pygments_lexer": "ipython3",
   "version": "3.6.5"
  }
 },
 "nbformat": 4,
 "nbformat_minor": 2
}
